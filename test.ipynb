{
 "cells": [
  {
   "cell_type": "code",
   "execution_count": 1,
   "metadata": {},
   "outputs": [],
   "source": [
    "import pandas as pd\n",
    "import json\n",
    "from get_prices import check_price\n",
    "from match_images import (\n",
    "    get_images_pages,\n",
    "    get_images_iframe,\n",
    "    url_ache_mosaic,\n",
    "    comparing_images,\n",
    "    compare_images_threshold,\n",
    ")\n",
    "from utils import delete_images\n",
    "import os\n",
    "import cv2\n",
    "import numpy as np\n",
    "from skimage import io\n",
    "from skimage.metrics import structural_similarity as compare_ssim"
   ]
  },
  {
   "cell_type": "code",
   "execution_count": 2,
   "metadata": {},
   "outputs": [],
   "source": [
    "# df = pd.read_csv(\"OFERTA_OUTUBRO.csv\", sep=';', encoding='utf-8')\n",
    "# df = df.iloc[0:10, :]\n",
    "# df = df[['BANDEIRA', 'SKU', 'DATA INCIAL', 'DATA FINAL', 'DE','PARA']]\n",
    "# df = check_price(df)\n",
    "# df.head(10)"
   ]
  },
  {
   "cell_type": "code",
   "execution_count": 8,
   "metadata": {},
   "outputs": [],
   "source": [
    "path_dict = \"dict_url.json\"\n",
    "with open(path_dict, \"r\") as json_file:\n",
    "    dict_url = json.load(json_file)"
   ]
  },
  {
   "cell_type": "code",
   "execution_count": 4,
   "metadata": {},
   "outputs": [],
   "source": [
    "def compare_images_test(folder_path, image2_path, threshold=0.9):\n",
    "    for filename in os.listdir(folder_path):\n",
    "        pathf = os.path.join(folder_path, filename)\n",
    "        # Carregar as imagens\n",
    "        img1 = io.imread(pathf)\n",
    "        img2 = io.imread(image2_path)\n",
    "\n",
    "        # Verificar se as imagens foram carregadas corretamente\n",
    "        # if img1 is None or img2 is None:\n",
    "        #    raise ValueError(\"Não foi possível carregar as imagens.\")\n",
    "\n",
    "        # Converter as imagens para tons de cinza (para comparar melhor)\n",
    "        gray_img1 = cv2.cvtColor(img1, cv2.COLOR_BGR2GRAY)\n",
    "        gray_img2 = cv2.cvtColor(img2, cv2.COLOR_BGR2GRAY)\n",
    "\n",
    "        if gray_img1.shape != gray_img2.shape:\n",
    "            gray_img1 = cv2.resize(gray_img1, (gray_img2.shape[1], gray_img2.shape[0]))\n",
    "\n",
    "        # Calcular o coeficiente de similaridade estrutural (SSIM) entre as imagens\n",
    "        ssim = compare_ssim(gray_img1, gray_img2)\n",
    "\n",
    "        # Se o valor SSIM for maior que o limite, as imagens são consideradas iguais\n",
    "        if ssim > threshold:\n",
    "            return f\"As imagens {pathf} e {image2_path} são iguais\"\n",
    "        else:\n",
    "            pass"
   ]
  },
  {
   "cell_type": "markdown",
   "metadata": {},
   "source": [
    "## drogariasaopaulo"
   ]
  },
  {
   "cell_type": "code",
   "execution_count": 5,
   "metadata": {},
   "outputs": [],
   "source": [
    "loja = \"drogariasaopaulo\"\n",
    "for key, value in dict_url.items():\n",
    "    if key == loja:\n",
    "        get_images_pages(\n",
    "            url=value[\"url\"],\n",
    "            banner_xpath=value[\"banner_xpath\"],\n",
    "            carousel_button_xpath=value[\"carousel_button_xpath\"],\n",
    "            cookie_button_css=value[\"cookie_button_css\"],\n",
    "        )"
   ]
  },
  {
   "cell_type": "code",
   "execution_count": 7,
   "metadata": {},
   "outputs": [
    {
     "data": {
      "text/plain": [
       "True"
      ]
     },
     "execution_count": 7,
     "metadata": {},
     "output_type": "execute_result"
    }
   ],
   "source": [
    "compare_images_threshold(\n",
    "    folder_path=\"images_saopaulo\",\n",
    "    image2_path=\"images_saopaulo/image_1.jpg\",\n",
    "    threshold=0.8,\n",
    ")"
   ]
  },
  {
   "cell_type": "code",
   "execution_count": 14,
   "metadata": {},
   "outputs": [
    {
     "name": "stdout",
     "output_type": "stream",
     "text": [
      "As imagens images_saopaulo\\image_0.jpg e images_saopaulo\\image_0.jpg são iguais\n",
      "As imagens images_saopaulo\\image_1.jpg e images_saopaulo\\image_1.jpg são iguais\n",
      "As imagens images_saopaulo\\image_10.jpg e images_saopaulo\\image_10.jpg são iguais\n",
      "As imagens images_saopaulo\\image_11.jpg e images_saopaulo\\image_11.jpg são iguais\n",
      "As imagens images_saopaulo\\image_12.jpg e images_saopaulo\\image_12.jpg são iguais\n",
      "As imagens images_saopaulo\\image_13.jpg e images_saopaulo\\image_13.jpg são iguais\n",
      "As imagens images_saopaulo\\image_0.jpg e images_saopaulo\\image_14.jpg são iguais\n",
      "As imagens images_saopaulo\\image_1.jpg e images_saopaulo\\image_15.jpg são iguais\n",
      "As imagens images_saopaulo\\image_16.jpg e images_saopaulo\\image_16.jpg são iguais\n",
      "As imagens images_saopaulo\\image_17.jpg e images_saopaulo\\image_17.jpg são iguais\n",
      "As imagens images_saopaulo\\image_16.jpg e images_saopaulo\\image_2.jpg são iguais\n",
      "As imagens images_saopaulo\\image_17.jpg e images_saopaulo\\image_3.jpg são iguais\n",
      "As imagens images_saopaulo\\image_4.jpg e images_saopaulo\\image_4.jpg são iguais\n",
      "As imagens images_saopaulo\\image_5.jpg e images_saopaulo\\image_5.jpg são iguais\n",
      "As imagens images_saopaulo\\image_6.jpg e images_saopaulo\\image_6.jpg são iguais\n",
      "As imagens images_saopaulo\\image_7.jpg e images_saopaulo\\image_7.jpg são iguais\n",
      "As imagens images_saopaulo\\image_8.jpg e images_saopaulo\\image_8.jpg são iguais\n",
      "As imagens images_saopaulo\\image_9.jpg e images_saopaulo\\image_9.jpg são iguais\n"
     ]
    }
   ],
   "source": [
    "for filename in os.listdir(\"images_saopaulo\"):\n",
    "    path = os.path.join(\"images_saopaulo\", filename)\n",
    "    print(\n",
    "        compare_images_test(\n",
    "            folder_path=\"images_saopaulo\", image2_path=path, threshold=0.8\n",
    "        )\n",
    "    )"
   ]
  },
  {
   "cell_type": "markdown",
   "metadata": {},
   "source": [
    "## ARAÚJO"
   ]
  },
  {
   "cell_type": "code",
   "execution_count": null,
   "metadata": {},
   "outputs": [],
   "source": [
    "loja = \"ARAÚJO\"\n",
    "for key, value in dict_url.items():\n",
    "    if key == loja:\n",
    "        get_images_pages(\n",
    "            url=value[\"url\"],\n",
    "            banner_xpath=value[\"banner_xpath\"],\n",
    "            carousel_button_xpath=value[\"carousel_button_xpath\"],\n",
    "            cookie_button_css=value[\"cookie_button_css\"],\n",
    "        )"
   ]
  },
  {
   "cell_type": "code",
   "execution_count": 7,
   "metadata": {},
   "outputs": [
    {
     "data": {
      "text/plain": [
       "False"
      ]
     },
     "execution_count": 7,
     "metadata": {},
     "output_type": "execute_result"
    }
   ],
   "source": [
    "compare_images_threshold(\n",
    "    folder_path=\"images_araujo\", image2_path=\"images_raia/image_1.jpg\", threshold=0.8\n",
    ")"
   ]
  },
  {
   "cell_type": "code",
   "execution_count": 13,
   "metadata": {},
   "outputs": [
    {
     "name": "stdout",
     "output_type": "stream",
     "text": [
      "As imagens images_araujo\\image_0.jpg e images_araujo\\image_0.jpg são iguais\n",
      "As imagens images_araujo\\image_1.jpg e images_araujo\\image_1.jpg são iguais\n",
      "As imagens images_araujo\\image_10.jpg e images_araujo\\image_10.jpg são iguais\n",
      "As imagens images_araujo\\image_11.jpg e images_araujo\\image_11.jpg são iguais\n",
      "As imagens images_araujo\\image_12.jpg e images_araujo\\image_12.jpg são iguais\n",
      "As imagens images_araujo\\image_13.jpg e images_araujo\\image_13.jpg são iguais\n",
      "As imagens images_araujo\\image_14.jpg e images_araujo\\image_14.jpg são iguais\n",
      "As imagens images_araujo\\image_15.jpg e images_araujo\\image_15.jpg são iguais\n",
      "As imagens images_araujo\\image_16.jpg e images_araujo\\image_16.jpg são iguais\n",
      "As imagens images_araujo\\image_17.jpg e images_araujo\\image_17.jpg são iguais\n",
      "As imagens images_araujo\\image_18.jpg e images_araujo\\image_18.jpg são iguais\n",
      "As imagens images_araujo\\image_19.jpg e images_araujo\\image_19.jpg são iguais\n",
      "As imagens images_araujo\\image_2.jpg e images_araujo\\image_2.jpg são iguais\n",
      "As imagens images_araujo\\image_20.jpg e images_araujo\\image_20.jpg são iguais\n",
      "As imagens images_araujo\\image_3.jpg e images_araujo\\image_3.jpg são iguais\n",
      "As imagens images_araujo\\image_4.jpg e images_araujo\\image_4.jpg são iguais\n",
      "As imagens images_araujo\\image_5.jpg e images_araujo\\image_5.jpg são iguais\n",
      "As imagens images_araujo\\image_6.jpg e images_araujo\\image_6.jpg são iguais\n",
      "As imagens images_araujo\\image_7.jpg e images_araujo\\image_7.jpg são iguais\n",
      "As imagens images_araujo\\image_8.jpg e images_araujo\\image_8.jpg são iguais\n",
      "As imagens images_araujo\\image_9.jpg e images_araujo\\image_9.jpg são iguais\n"
     ]
    }
   ],
   "source": [
    "for filename in os.listdir(\"images_araujo\"):\n",
    "    path = os.path.join(\"images_araujo\", filename)\n",
    "    print(\n",
    "        compare_images_test(\n",
    "            folder_path=\"images_araujo\", image2_path=path, threshold=0.8\n",
    "        )\n",
    "    )"
   ]
  },
  {
   "cell_type": "markdown",
   "metadata": {},
   "source": [
    "## PACHECO"
   ]
  },
  {
   "cell_type": "code",
   "execution_count": null,
   "metadata": {},
   "outputs": [],
   "source": [
    "loja = \"PACHECO\"\n",
    "for key, value in dict_url.items():\n",
    "    if key == loja:\n",
    "        get_images_pages(\n",
    "            url=value[\"url\"],\n",
    "            banner_xpath=value[\"banner_xpath\"],\n",
    "            carousel_button_xpath=value[\"carousel_button_xpath\"],\n",
    "            cookie_button_css=value[\"cookie_button_css\"],\n",
    "        )"
   ]
  },
  {
   "cell_type": "code",
   "execution_count": 14,
   "metadata": {},
   "outputs": [
    {
     "data": {
      "text/plain": [
       "True"
      ]
     },
     "execution_count": 14,
     "metadata": {},
     "output_type": "execute_result"
    }
   ],
   "source": [
    "compare_images_threshold(\n",
    "    folder_path=\"images_pacheco\",\n",
    "    image2_path=\"images_pacheco/image_0.jpg\",\n",
    "    threshold=0.8,\n",
    ")"
   ]
  },
  {
   "cell_type": "code",
   "execution_count": 15,
   "metadata": {},
   "outputs": [
    {
     "name": "stdout",
     "output_type": "stream",
     "text": [
      "As imagens images_pacheco\\image_0.jpg e images_pacheco\\image_0.jpg são iguais\n",
      "As imagens images_pacheco\\image_1.jpg e images_pacheco\\image_1.jpg são iguais\n",
      "As imagens images_pacheco\\image_10.jpg e images_pacheco\\image_10.jpg são iguais\n",
      "As imagens images_pacheco\\image_0.jpg e images_pacheco\\image_11.jpg são iguais\n",
      "As imagens images_pacheco\\image_1.jpg e images_pacheco\\image_12.jpg são iguais\n",
      "As imagens images_pacheco\\image_13.jpg e images_pacheco\\image_13.jpg são iguais\n",
      "As imagens images_pacheco\\image_14.jpg e images_pacheco\\image_14.jpg são iguais\n",
      "As imagens images_pacheco\\image_13.jpg e images_pacheco\\image_2.jpg são iguais\n",
      "As imagens images_pacheco\\image_14.jpg e images_pacheco\\image_3.jpg são iguais\n",
      "As imagens images_pacheco\\image_4.jpg e images_pacheco\\image_4.jpg são iguais\n",
      "As imagens images_pacheco\\image_5.jpg e images_pacheco\\image_5.jpg são iguais\n",
      "As imagens images_pacheco\\image_6.jpg e images_pacheco\\image_6.jpg são iguais\n",
      "As imagens images_pacheco\\image_7.jpg e images_pacheco\\image_7.jpg são iguais\n",
      "As imagens images_pacheco\\image_8.jpg e images_pacheco\\image_8.jpg são iguais\n",
      "As imagens images_pacheco\\image_9.jpg e images_pacheco\\image_9.jpg são iguais\n"
     ]
    }
   ],
   "source": [
    "for filename in os.listdir(\"images_pacheco\"):\n",
    "    path = os.path.join(\"images_pacheco\", filename)\n",
    "    print(\n",
    "        compare_images_test(\n",
    "            folder_path=\"images_pacheco\", image2_path=path, threshold=0.8\n",
    "        )\n",
    "    )"
   ]
  },
  {
   "cell_type": "markdown",
   "metadata": {},
   "source": [
    "## PANVEL"
   ]
  },
  {
   "cell_type": "code",
   "execution_count": null,
   "metadata": {},
   "outputs": [],
   "source": [
    "loja = \"PANVEL\"\n",
    "for key, value in dict_url.items():\n",
    "    if key == loja:\n",
    "        get_images_pages(\n",
    "            url=value[\"url\"],\n",
    "            banner_xpath=value[\"banner_xpath\"],\n",
    "            carousel_button_xpath=value[\"carousel_button_xpath\"],\n",
    "            cookie_button_css=value[\"cookie_button_css\"],\n",
    "        )"
   ]
  },
  {
   "cell_type": "code",
   "execution_count": 16,
   "metadata": {},
   "outputs": [
    {
     "data": {
      "text/plain": [
       "True"
      ]
     },
     "execution_count": 16,
     "metadata": {},
     "output_type": "execute_result"
    }
   ],
   "source": [
    "compare_images_threshold(\n",
    "    folder_path=\"images_panvel\", image2_path=\"images_panvel/image_0.jpg\", threshold=0.8\n",
    ")"
   ]
  },
  {
   "cell_type": "code",
   "execution_count": 17,
   "metadata": {},
   "outputs": [
    {
     "name": "stdout",
     "output_type": "stream",
     "text": [
      "As imagens images_panvel\\image_0.jpg e images_panvel\\image_0.jpg são iguais\n"
     ]
    }
   ],
   "source": [
    "for filename in os.listdir(\"images_panvel\"):\n",
    "    path = os.path.join(\"images_panvel\", filename)\n",
    "    print(\n",
    "        compare_images_test(\n",
    "            folder_path=\"images_panvel\", image2_path=path, threshold=0.8\n",
    "        )\n",
    "    )"
   ]
  },
  {
   "cell_type": "markdown",
   "metadata": {},
   "source": [
    "## DROGARIA VENANCIO"
   ]
  },
  {
   "cell_type": "code",
   "execution_count": null,
   "metadata": {},
   "outputs": [],
   "source": [
    "loja = \"DROGARIA VENANCIO\"\n",
    "for key, value in dict_url.items():\n",
    "    if key == loja:\n",
    "        get_images_pages(\n",
    "            url=value[\"url\"],\n",
    "            banner_xpath=value[\"banner_xpath\"],\n",
    "            carousel_button_xpath=value[\"carousel_button_xpath\"],\n",
    "            cookie_button_css=value[\"cookie_button_css\"],\n",
    "        )"
   ]
  },
  {
   "cell_type": "code",
   "execution_count": 19,
   "metadata": {},
   "outputs": [
    {
     "data": {
      "text/plain": [
       "True"
      ]
     },
     "execution_count": 19,
     "metadata": {},
     "output_type": "execute_result"
    }
   ],
   "source": [
    "compare_images_threshold(\n",
    "    folder_path=\"images_venancio\",\n",
    "    image2_path=\"images_venancio/image_1.jpg\",\n",
    "    threshold=0.8,\n",
    ")"
   ]
  },
  {
   "cell_type": "code",
   "execution_count": 20,
   "metadata": {},
   "outputs": [
    {
     "name": "stdout",
     "output_type": "stream",
     "text": [
      "As imagens images_venancio\\image_1.jpg e images_venancio\\image_1.jpg são iguais\n",
      "As imagens images_venancio\\image_2.jpg e images_venancio\\image_2.jpg são iguais\n",
      "As imagens images_venancio\\image_3.jpg e images_venancio\\image_3.jpg são iguais\n",
      "As imagens images_venancio\\image_4.jpg e images_venancio\\image_4.jpg são iguais\n",
      "As imagens images_venancio\\image_5.jpg e images_venancio\\image_5.jpg são iguais\n"
     ]
    }
   ],
   "source": [
    "for filename in os.listdir(\"images_venancio\"):\n",
    "    path = os.path.join(\"images_venancio\", filename)\n",
    "    print(\n",
    "        compare_images_test(\n",
    "            folder_path=\"images_venancio\", image2_path=path, threshold=0.8\n",
    "        )\n",
    "    )"
   ]
  },
  {
   "cell_type": "markdown",
   "metadata": {},
   "source": [
    "## PAGUE MENOS"
   ]
  },
  {
   "cell_type": "code",
   "execution_count": null,
   "metadata": {},
   "outputs": [],
   "source": [
    "loja = \"PAGUE MENOS\"\n",
    "for key, value in dict_url.items():\n",
    "    if key == loja:\n",
    "        get_images_pages(\n",
    "            url=value[\"url\"],\n",
    "            banner_xpath=value[\"banner_xpath\"],\n",
    "            carousel_button_xpath=value[\"carousel_button_xpath\"],\n",
    "            cookie_button_css=value[\"cookie_button_css\"],\n",
    "        )"
   ]
  },
  {
   "cell_type": "code",
   "execution_count": 21,
   "metadata": {},
   "outputs": [
    {
     "data": {
      "text/plain": [
       "True"
      ]
     },
     "execution_count": 21,
     "metadata": {},
     "output_type": "execute_result"
    }
   ],
   "source": [
    "compare_images_threshold(\n",
    "    folder_path=\"images_pagmenos\",\n",
    "    image2_path=\"images_pagmenos/image_1.jpg\",\n",
    "    threshold=0.8,\n",
    ")"
   ]
  },
  {
   "cell_type": "code",
   "execution_count": 22,
   "metadata": {},
   "outputs": [
    {
     "name": "stdout",
     "output_type": "stream",
     "text": [
      "As imagens images_pagmenos\\image_0.jpg e images_pagmenos\\image_0.jpg são iguais\n",
      "As imagens images_pagmenos\\image_1.jpg e images_pagmenos\\image_1.jpg são iguais\n",
      "As imagens images_pagmenos\\image_10.jpg e images_pagmenos\\image_10.jpg são iguais\n",
      "As imagens images_pagmenos\\image_2.jpg e images_pagmenos\\image_2.jpg são iguais\n",
      "As imagens images_pagmenos\\image_3.jpg e images_pagmenos\\image_3.jpg são iguais\n",
      "As imagens images_pagmenos\\image_4.jpg e images_pagmenos\\image_4.jpg são iguais\n",
      "As imagens images_pagmenos\\image_5.jpg e images_pagmenos\\image_5.jpg são iguais\n",
      "As imagens images_pagmenos\\image_6.jpg e images_pagmenos\\image_6.jpg são iguais\n",
      "As imagens images_pagmenos\\image_7.jpg e images_pagmenos\\image_7.jpg são iguais\n",
      "As imagens images_pagmenos\\image_8.jpg e images_pagmenos\\image_8.jpg são iguais\n",
      "As imagens images_pagmenos\\image_9.jpg e images_pagmenos\\image_9.jpg são iguais\n"
     ]
    }
   ],
   "source": [
    "for filename in os.listdir(\"images_pagmenos\"):\n",
    "    path = os.path.join(\"images_pagmenos\", filename)\n",
    "    print(\n",
    "        compare_images_test(\n",
    "            folder_path=\"images_pagmenos\", image2_path=path, threshold=0.8\n",
    "        )\n",
    "    )"
   ]
  },
  {
   "cell_type": "markdown",
   "metadata": {},
   "source": [
    "## INDIANA"
   ]
  },
  {
   "cell_type": "code",
   "execution_count": null,
   "metadata": {},
   "outputs": [],
   "source": [
    "loja = \"INDIANA\"\n",
    "for key, value in dict_url.items():\n",
    "    if key == loja:\n",
    "        get_images_pages(\n",
    "            url=value[\"url\"],\n",
    "            banner_xpath=value[\"banner_xpath\"],\n",
    "            carousel_button_xpath=value[\"carousel_button_xpath\"],\n",
    "            cookie_button_css=value[\"cookie_button_css\"],\n",
    "        )"
   ]
  },
  {
   "cell_type": "code",
   "execution_count": 23,
   "metadata": {},
   "outputs": [
    {
     "data": {
      "text/plain": [
       "True"
      ]
     },
     "execution_count": 23,
     "metadata": {},
     "output_type": "execute_result"
    }
   ],
   "source": [
    "compare_images_threshold(\n",
    "    folder_path=\"images_indiana\",\n",
    "    image2_path=\"images_indiana/image_1.jpg\",\n",
    "    threshold=0.8,\n",
    ")"
   ]
  },
  {
   "cell_type": "code",
   "execution_count": 24,
   "metadata": {},
   "outputs": [
    {
     "name": "stdout",
     "output_type": "stream",
     "text": [
      "As imagens images_indiana\\image_0.jpg e images_indiana\\image_0.jpg são iguais\n",
      "As imagens images_indiana\\image_1.jpg e images_indiana\\image_1.jpg são iguais\n",
      "As imagens images_indiana\\image_10.jpg e images_indiana\\image_10.jpg são iguais\n",
      "As imagens images_indiana\\image_11.jpg e images_indiana\\image_11.jpg são iguais\n",
      "As imagens images_indiana\\image_12.jpg e images_indiana\\image_12.jpg são iguais\n",
      "As imagens images_indiana\\image_13.jpg e images_indiana\\image_13.jpg são iguais\n",
      "As imagens images_indiana\\image_14.jpg e images_indiana\\image_14.jpg são iguais\n",
      "As imagens images_indiana\\image_15.jpg e images_indiana\\image_15.jpg são iguais\n",
      "As imagens images_indiana\\image_16.jpg e images_indiana\\image_16.jpg são iguais\n",
      "As imagens images_indiana\\image_0.jpg e images_indiana\\image_17.jpg são iguais\n",
      "As imagens images_indiana\\image_1.jpg e images_indiana\\image_18.jpg são iguais\n",
      "As imagens images_indiana\\image_19.jpg e images_indiana\\image_19.jpg são iguais\n",
      "As imagens images_indiana\\image_19.jpg e images_indiana\\image_2.jpg são iguais\n",
      "As imagens images_indiana\\image_20.jpg e images_indiana\\image_20.jpg são iguais\n",
      "As imagens images_indiana\\image_21.jpg e images_indiana\\image_21.jpg são iguais\n",
      "As imagens images_indiana\\image_22.jpg e images_indiana\\image_22.jpg são iguais\n",
      "As imagens images_indiana\\image_23.jpg e images_indiana\\image_23.jpg são iguais\n",
      "As imagens images_indiana\\image_24.jpg e images_indiana\\image_24.jpg são iguais\n",
      "As imagens images_indiana\\image_25.jpg e images_indiana\\image_25.jpg são iguais\n",
      "As imagens images_indiana\\image_26.jpg e images_indiana\\image_26.jpg são iguais\n",
      "As imagens images_indiana\\image_10.jpg e images_indiana\\image_27.jpg são iguais\n",
      "As imagens images_indiana\\image_11.jpg e images_indiana\\image_28.jpg são iguais\n",
      "As imagens images_indiana\\image_12.jpg e images_indiana\\image_29.jpg são iguais\n",
      "As imagens images_indiana\\image_20.jpg e images_indiana\\image_3.jpg são iguais\n",
      "As imagens images_indiana\\image_13.jpg e images_indiana\\image_30.jpg são iguais\n",
      "As imagens images_indiana\\image_14.jpg e images_indiana\\image_31.jpg são iguais\n",
      "As imagens images_indiana\\image_15.jpg e images_indiana\\image_32.jpg são iguais\n",
      "As imagens images_indiana\\image_16.jpg e images_indiana\\image_33.jpg são iguais\n",
      "As imagens images_indiana\\image_0.jpg e images_indiana\\image_34.jpg são iguais\n",
      "As imagens images_indiana\\image_21.jpg e images_indiana\\image_4.jpg são iguais\n",
      "As imagens images_indiana\\image_22.jpg e images_indiana\\image_5.jpg são iguais\n",
      "As imagens images_indiana\\image_23.jpg e images_indiana\\image_6.jpg são iguais\n",
      "As imagens images_indiana\\image_24.jpg e images_indiana\\image_7.jpg são iguais\n",
      "As imagens images_indiana\\image_25.jpg e images_indiana\\image_8.jpg são iguais\n",
      "As imagens images_indiana\\image_26.jpg e images_indiana\\image_9.jpg são iguais\n"
     ]
    }
   ],
   "source": [
    "for filename in os.listdir(\"images_indiana\"):\n",
    "    path = os.path.join(\"images_indiana\", filename)\n",
    "    print(\n",
    "        compare_images_test(\n",
    "            folder_path=\"images_indiana\", image2_path=path, threshold=0.8\n",
    "        )\n",
    "    )"
   ]
  },
  {
   "cell_type": "markdown",
   "metadata": {},
   "source": [
    "## NISSEI"
   ]
  },
  {
   "cell_type": "code",
   "execution_count": null,
   "metadata": {},
   "outputs": [],
   "source": [
    "loja = \"NISSEI\"\n",
    "for key, value in dict_url.items():\n",
    "    if key == loja:\n",
    "        get_images_pages(\n",
    "            url=value[\"url\"],\n",
    "            banner_xpath=value[\"banner_xpath\"],\n",
    "            carousel_button_xpath=value[\"carousel_button_xpath\"],\n",
    "            cookie_button_css=value[\"cookie_button_css\"],\n",
    "        )"
   ]
  },
  {
   "cell_type": "code",
   "execution_count": 25,
   "metadata": {},
   "outputs": [
    {
     "data": {
      "text/plain": [
       "True"
      ]
     },
     "execution_count": 25,
     "metadata": {},
     "output_type": "execute_result"
    }
   ],
   "source": [
    "compare_images_threshold(\n",
    "    folder_path=\"images_nissei\", image2_path=\"images_nissei/image_1.jpg\", threshold=0.8\n",
    ")"
   ]
  },
  {
   "cell_type": "code",
   "execution_count": 26,
   "metadata": {},
   "outputs": [
    {
     "name": "stdout",
     "output_type": "stream",
     "text": [
      "As imagens images_nissei\\image_0.jpg e images_nissei\\image_0.jpg são iguais\n",
      "As imagens images_nissei\\image_1.jpg e images_nissei\\image_1.jpg são iguais\n",
      "As imagens images_nissei\\image_0.jpg e images_nissei\\image_10.jpg são iguais\n",
      "As imagens images_nissei\\image_1.jpg e images_nissei\\image_11.jpg são iguais\n",
      "As imagens images_nissei\\image_12.jpg e images_nissei\\image_12.jpg são iguais\n",
      "As imagens images_nissei\\image_13.jpg e images_nissei\\image_13.jpg são iguais\n",
      "As imagens images_nissei\\image_14.jpg e images_nissei\\image_14.jpg são iguais\n",
      "As imagens images_nissei\\image_15.jpg e images_nissei\\image_15.jpg são iguais\n",
      "As imagens images_nissei\\image_16.jpg e images_nissei\\image_16.jpg são iguais\n",
      "As imagens images_nissei\\image_17.jpg e images_nissei\\image_17.jpg são iguais\n",
      "As imagens images_nissei\\image_18.jpg e images_nissei\\image_18.jpg são iguais\n",
      "As imagens images_nissei\\image_19.jpg e images_nissei\\image_19.jpg são iguais\n",
      "As imagens images_nissei\\image_12.jpg e images_nissei\\image_2.jpg são iguais\n",
      "As imagens images_nissei\\image_13.jpg e images_nissei\\image_3.jpg são iguais\n",
      "As imagens images_nissei\\image_14.jpg e images_nissei\\image_4.jpg são iguais\n",
      "As imagens images_nissei\\image_15.jpg e images_nissei\\image_5.jpg são iguais\n",
      "As imagens images_nissei\\image_16.jpg e images_nissei\\image_6.jpg são iguais\n",
      "As imagens images_nissei\\image_17.jpg e images_nissei\\image_7.jpg são iguais\n",
      "As imagens images_nissei\\image_18.jpg e images_nissei\\image_8.jpg são iguais\n",
      "As imagens images_nissei\\image_19.jpg e images_nissei\\image_9.jpg são iguais\n"
     ]
    }
   ],
   "source": [
    "for filename in os.listdir(\"images_nissei\"):\n",
    "    path = os.path.join(\"images_nissei\", filename)\n",
    "    print(\n",
    "        compare_images_test(\n",
    "            folder_path=\"images_nissei\", image2_path=path, threshold=0.8\n",
    "        )\n",
    "    )"
   ]
  },
  {
   "cell_type": "markdown",
   "metadata": {},
   "source": [
    "## EXTRAFARMA"
   ]
  },
  {
   "cell_type": "code",
   "execution_count": null,
   "metadata": {},
   "outputs": [],
   "source": [
    "loja = \"EXTRAFARMA\"\n",
    "for key, value in dict_url.items():\n",
    "    if key == loja:\n",
    "        get_images_pages(\n",
    "            url=value[\"url\"],\n",
    "            banner_xpath=value[\"banner_xpath\"],\n",
    "            carousel_button_xpath=value[\"carousel_button_xpath\"],\n",
    "            cookie_button_css=value[\"cookie_button_css\"],\n",
    "        )"
   ]
  },
  {
   "cell_type": "code",
   "execution_count": 27,
   "metadata": {},
   "outputs": [
    {
     "data": {
      "text/plain": [
       "True"
      ]
     },
     "execution_count": 27,
     "metadata": {},
     "output_type": "execute_result"
    }
   ],
   "source": [
    "compare_images_threshold(\n",
    "    folder_path=\"images_extrafarma\",\n",
    "    image2_path=\"images_extrafarma/image_1.jpg\",\n",
    "    threshold=0.8,\n",
    ")"
   ]
  },
  {
   "cell_type": "code",
   "execution_count": 28,
   "metadata": {},
   "outputs": [
    {
     "name": "stdout",
     "output_type": "stream",
     "text": [
      "As imagens images_extrafarma\\image_0.jpg e images_extrafarma\\image_0.jpg são iguais\n",
      "As imagens images_extrafarma\\image_1.jpg e images_extrafarma\\image_1.jpg são iguais\n",
      "As imagens images_extrafarma\\image_10.jpg e images_extrafarma\\image_10.jpg são iguais\n",
      "As imagens images_extrafarma\\image_11.jpg e images_extrafarma\\image_11.jpg são iguais\n",
      "As imagens images_extrafarma\\image_2.jpg e images_extrafarma\\image_2.jpg são iguais\n",
      "As imagens images_extrafarma\\image_3.jpg e images_extrafarma\\image_3.jpg são iguais\n",
      "As imagens images_extrafarma\\image_4.jpg e images_extrafarma\\image_4.jpg são iguais\n",
      "As imagens images_extrafarma\\image_5.jpg e images_extrafarma\\image_5.jpg são iguais\n",
      "As imagens images_extrafarma\\image_6.jpg e images_extrafarma\\image_6.jpg são iguais\n",
      "As imagens images_extrafarma\\image_7.jpg e images_extrafarma\\image_7.jpg são iguais\n",
      "As imagens images_extrafarma\\image_8.jpg e images_extrafarma\\image_8.jpg são iguais\n",
      "As imagens images_extrafarma\\image_9.jpg e images_extrafarma\\image_9.jpg são iguais\n"
     ]
    }
   ],
   "source": [
    "for filename in os.listdir(\"images_extrafarma\"):\n",
    "    path = os.path.join(\"images_extrafarma\", filename)\n",
    "    print(\n",
    "        compare_images_test(\n",
    "            folder_path=\"images_extrafarma\", image2_path=path, threshold=0.8\n",
    "        )\n",
    "    )"
   ]
  },
  {
   "cell_type": "markdown",
   "metadata": {},
   "source": [
    "## DROGAL"
   ]
  },
  {
   "cell_type": "code",
   "execution_count": null,
   "metadata": {},
   "outputs": [],
   "source": [
    "loja = \"DROGAL\"\n",
    "for key, value in dict_url.items():\n",
    "    if key == loja:\n",
    "        get_images_pages(\n",
    "            url=value[\"url\"],\n",
    "            banner_xpath=value[\"banner_xpath\"],\n",
    "            carousel_button_xpath=value[\"carousel_button_xpath\"],\n",
    "            cookie_button_css=value[\"cookie_button_css\"],\n",
    "        )"
   ]
  },
  {
   "cell_type": "code",
   "execution_count": 29,
   "metadata": {},
   "outputs": [
    {
     "data": {
      "text/plain": [
       "True"
      ]
     },
     "execution_count": 29,
     "metadata": {},
     "output_type": "execute_result"
    }
   ],
   "source": [
    "compare_images_threshold(\n",
    "    folder_path=\"images_drogal\", image2_path=\"images_drogal/image_1.jpg\", threshold=0.8\n",
    ")"
   ]
  },
  {
   "cell_type": "code",
   "execution_count": 30,
   "metadata": {},
   "outputs": [
    {
     "name": "stdout",
     "output_type": "stream",
     "text": [
      "As imagens images_drogal\\image_0.jpg e images_drogal\\image_0.jpg são iguais\n",
      "As imagens images_drogal\\image_1.jpg e images_drogal\\image_1.jpg são iguais\n",
      "As imagens images_drogal\\image_10.jpg e images_drogal\\image_10.jpg são iguais\n",
      "As imagens images_drogal\\image_11.jpg e images_drogal\\image_11.jpg são iguais\n",
      "As imagens images_drogal\\image_12.jpg e images_drogal\\image_12.jpg são iguais\n",
      "As imagens images_drogal\\image_13.jpg e images_drogal\\image_13.jpg são iguais\n",
      "As imagens images_drogal\\image_0.jpg e images_drogal\\image_14.jpg são iguais\n",
      "As imagens images_drogal\\image_2.jpg e images_drogal\\image_2.jpg são iguais\n",
      "As imagens images_drogal\\image_10.jpg e images_drogal\\image_3.jpg são iguais\n",
      "As imagens images_drogal\\image_11.jpg e images_drogal\\image_4.jpg são iguais\n",
      "As imagens images_drogal\\image_12.jpg e images_drogal\\image_5.jpg são iguais\n",
      "As imagens images_drogal\\image_13.jpg e images_drogal\\image_6.jpg são iguais\n",
      "As imagens images_drogal\\image_0.jpg e images_drogal\\image_7.jpg são iguais\n",
      "As imagens images_drogal\\image_1.jpg e images_drogal\\image_8.jpg são iguais\n",
      "As imagens images_drogal\\image_2.jpg e images_drogal\\image_9.jpg são iguais\n"
     ]
    }
   ],
   "source": [
    "for filename in os.listdir(\"images_drogal\"):\n",
    "    path = os.path.join(\"images_drogal\", filename)\n",
    "    print(\n",
    "        compare_images_test(\n",
    "            folder_path=\"images_drogal\", image2_path=path, threshold=0.8\n",
    "        )\n",
    "    )"
   ]
  },
  {
   "cell_type": "markdown",
   "metadata": {},
   "source": [
    "## DROGARIA GLOBO"
   ]
  },
  {
   "cell_type": "code",
   "execution_count": 9,
   "metadata": {},
   "outputs": [],
   "source": [
    "loja = \"DROGARIA GLOBO\"\n",
    "for key, value in dict_url.items():\n",
    "    if key == loja:\n",
    "        get_images_pages(\n",
    "            url=value[\"url\"],\n",
    "            banner_xpath=value[\"banner_xpath\"],\n",
    "            carousel_button_xpath=value[\"carousel_button_xpath\"],\n",
    "            cookie_button_css=value[\"cookie_button_css\"],\n",
    "        )"
   ]
  },
  {
   "cell_type": "code",
   "execution_count": 11,
   "metadata": {},
   "outputs": [
    {
     "data": {
      "text/plain": [
       "True"
      ]
     },
     "execution_count": 11,
     "metadata": {},
     "output_type": "execute_result"
    }
   ],
   "source": [
    "compare_images_threshold(\n",
    "    folder_path=\"images_globo\", image2_path=\"images_globo/image_1.jpg\", threshold=0.8\n",
    ")"
   ]
  },
  {
   "cell_type": "code",
   "execution_count": 12,
   "metadata": {},
   "outputs": [
    {
     "name": "stdout",
     "output_type": "stream",
     "text": [
      "As imagens images_globo\\image_0.jpg e images_globo\\image_0.jpg são iguais\n",
      "As imagens images_globo\\image_1.jpg e images_globo\\image_1.jpg são iguais\n",
      "As imagens images_globo\\image_10.jpg e images_globo\\image_10.jpg são iguais\n",
      "As imagens images_globo\\image_0.jpg e images_globo\\image_11.jpg são iguais\n",
      "As imagens images_globo\\image_1.jpg e images_globo\\image_2.jpg são iguais\n",
      "As imagens images_globo\\image_2.jpg e images_globo\\image_3.jpg são iguais\n",
      "As imagens images_globo\\image_1.jpg e images_globo\\image_4.jpg são iguais\n",
      "As imagens images_globo\\image_1.jpg e images_globo\\image_5.jpg são iguais\n",
      "As imagens images_globo\\image_1.jpg e images_globo\\image_6.jpg são iguais\n",
      "As imagens images_globo\\image_7.jpg e images_globo\\image_7.jpg são iguais\n",
      "As imagens images_globo\\image_8.jpg e images_globo\\image_8.jpg são iguais\n",
      "As imagens images_globo\\image_9.jpg e images_globo\\image_9.jpg são iguais\n"
     ]
    }
   ],
   "source": [
    "for filename in os.listdir(\"images_globo\"):\n",
    "    path = os.path.join(\"images_globo\", filename)\n",
    "    print(\n",
    "        compare_images_test(folder_path=\"images_globo\", image2_path=path, threshold=0.8)\n",
    "    )"
   ]
  },
  {
   "cell_type": "markdown",
   "metadata": {},
   "source": [
    "## RAIA"
   ]
  },
  {
   "cell_type": "code",
   "execution_count": null,
   "metadata": {},
   "outputs": [],
   "source": [
    "loja = \"RAIA\"\n",
    "for key, value in dict_url.items():\n",
    "    if key == loja:\n",
    "        get_images_pages(\n",
    "            url=value[\"url\"],\n",
    "            banner_xpath=value[\"banner_xpath\"],\n",
    "            carousel_button_xpath=value[\"carousel_button_xpath\"],\n",
    "            cookie_button_css=value[\"cookie_button_css\"],\n",
    "        )"
   ]
  },
  {
   "cell_type": "code",
   "execution_count": 32,
   "metadata": {},
   "outputs": [
    {
     "data": {
      "text/plain": [
       "True"
      ]
     },
     "execution_count": 32,
     "metadata": {},
     "output_type": "execute_result"
    }
   ],
   "source": [
    "compare_images_threshold(\n",
    "    folder_path=\"images_raia\", image2_path=\"images_raia/image_1.jpg\", threshold=0.8\n",
    ")"
   ]
  },
  {
   "cell_type": "code",
   "execution_count": 33,
   "metadata": {},
   "outputs": [
    {
     "name": "stdout",
     "output_type": "stream",
     "text": [
      "As imagens images_raia\\image_1.jpg e images_raia\\image_1.jpg são iguais\n",
      "As imagens images_raia\\image_11.jpg e images_raia\\image_11.jpg são iguais\n",
      "As imagens images_raia\\image_13.jpg e images_raia\\image_13.jpg são iguais\n",
      "As imagens images_raia\\image_15.jpg e images_raia\\image_15.jpg são iguais\n",
      "As imagens images_raia\\image_17.jpg e images_raia\\image_17.jpg são iguais\n",
      "As imagens images_raia\\image_19.jpg e images_raia\\image_19.jpg são iguais\n",
      "As imagens images_raia\\image_3.jpg e images_raia\\image_3.jpg são iguais\n",
      "As imagens images_raia\\image_3.jpg e images_raia\\image_5.jpg são iguais\n",
      "As imagens images_raia\\image_7.jpg e images_raia\\image_7.jpg são iguais\n",
      "As imagens images_raia\\image_9.jpg e images_raia\\image_9.jpg são iguais\n"
     ]
    }
   ],
   "source": [
    "for filename in os.listdir(\"images_raia\"):\n",
    "    path = os.path.join(\"images_raia\", filename)\n",
    "    print(\n",
    "        compare_images_test(folder_path=\"images_raia\", image2_path=path, threshold=0.8)\n",
    "    )"
   ]
  },
  {
   "cell_type": "markdown",
   "metadata": {},
   "source": [
    "## DROGASIL"
   ]
  },
  {
   "cell_type": "code",
   "execution_count": null,
   "metadata": {},
   "outputs": [],
   "source": [
    "loja = \"DROGASIL\"\n",
    "for key, value in dict_url.items():\n",
    "    if key == loja:\n",
    "        get_images_pages(\n",
    "            url=value[\"url\"],\n",
    "            banner_xpath=value[\"banner_xpath\"],\n",
    "            carousel_button_xpath=value[\"carousel_button_xpath\"],\n",
    "            cookie_button_css=value[\"cookie_button_css\"],\n",
    "        )"
   ]
  },
  {
   "cell_type": "code",
   "execution_count": 36,
   "metadata": {},
   "outputs": [
    {
     "data": {
      "text/plain": [
       "True"
      ]
     },
     "execution_count": 36,
     "metadata": {},
     "output_type": "execute_result"
    }
   ],
   "source": [
    "compare_images_threshold(\n",
    "    folder_path=\"images_drogasil\",\n",
    "    image2_path=\"images_drogasil/image_1.jpg\",\n",
    "    threshold=0.8,\n",
    ")"
   ]
  },
  {
   "cell_type": "code",
   "execution_count": 35,
   "metadata": {},
   "outputs": [
    {
     "name": "stdout",
     "output_type": "stream",
     "text": [
      "As imagens images_drogasil\\image_1.jpg e images_drogasil\\image_1.jpg são iguais\n",
      "As imagens images_drogasil\\image_11.jpg e images_drogasil\\image_11.jpg são iguais\n",
      "As imagens images_drogasil\\image_13.jpg e images_drogasil\\image_13.jpg são iguais\n",
      "As imagens images_drogasil\\image_15.jpg e images_drogasil\\image_15.jpg são iguais\n",
      "As imagens images_drogasil\\image_17.jpg e images_drogasil\\image_17.jpg são iguais\n",
      "As imagens images_drogasil\\image_19.jpg e images_drogasil\\image_19.jpg são iguais\n",
      "As imagens images_drogasil\\image_3.jpg e images_drogasil\\image_3.jpg são iguais\n",
      "As imagens images_drogasil\\image_5.jpg e images_drogasil\\image_5.jpg são iguais\n",
      "As imagens images_drogasil\\image_7.jpg e images_drogasil\\image_7.jpg são iguais\n",
      "As imagens images_drogasil\\image_9.jpg e images_drogasil\\image_9.jpg são iguais\n"
     ]
    }
   ],
   "source": [
    "for filename in os.listdir(\"images_drogasil\"):\n",
    "    path = os.path.join(\"images_drogasil\", filename)\n",
    "    print(\n",
    "        compare_images_test(\n",
    "            folder_path=\"images_drogasil\", image2_path=path, threshold=0.8\n",
    "        )\n",
    "    )"
   ]
  },
  {
   "cell_type": "markdown",
   "metadata": {},
   "source": [
    "## drogasmil"
   ]
  },
  {
   "cell_type": "code",
   "execution_count": 17,
   "metadata": {},
   "outputs": [],
   "source": [
    "loja = \"drogasmil\"\n",
    "for key, value in dict_url.items():\n",
    "    if key == loja:\n",
    "        get_images_pages(\n",
    "            url=value[\"url\"],\n",
    "            banner_xpath=value[\"banner_xpath\"],\n",
    "            carousel_button_xpath=value[\"carousel_button_xpath\"],\n",
    "            cookie_button_css=value[\"cookie_button_css\"],\n",
    "        )"
   ]
  },
  {
   "cell_type": "code",
   "execution_count": 18,
   "metadata": {},
   "outputs": [
    {
     "data": {
      "text/plain": [
       "True"
      ]
     },
     "execution_count": 18,
     "metadata": {},
     "output_type": "execute_result"
    }
   ],
   "source": [
    "compare_images_threshold(\n",
    "    folder_path=\"images_drogasmil\",\n",
    "    image2_path=\"images_drogasmil/image_1.jpg\",\n",
    "    threshold=0.8,\n",
    ")"
   ]
  },
  {
   "cell_type": "code",
   "execution_count": 19,
   "metadata": {},
   "outputs": [
    {
     "name": "stdout",
     "output_type": "stream",
     "text": [
      "As imagens images_drogasmil\\image_0.jpg e images_drogasmil\\image_0.jpg são iguais\n",
      "As imagens images_drogasmil\\image_1.jpg e images_drogasmil\\image_1.jpg são iguais\n",
      "As imagens images_drogasmil\\image_2.jpg e images_drogasmil\\image_2.jpg são iguais\n",
      "As imagens images_drogasmil\\image_3.jpg e images_drogasmil\\image_3.jpg são iguais\n",
      "As imagens images_drogasmil\\image_4.jpg e images_drogasmil\\image_4.jpg são iguais\n",
      "As imagens images_drogasmil\\image_5.jpg e images_drogasmil\\image_5.jpg são iguais\n",
      "As imagens images_drogasmil\\image_6.jpg e images_drogasmil\\image_6.jpg são iguais\n",
      "As imagens images_drogasmil\\image_7.jpg e images_drogasmil\\image_7.jpg são iguais\n",
      "As imagens images_drogasmil\\image_8.jpg e images_drogasmil\\image_8.jpg são iguais\n"
     ]
    }
   ],
   "source": [
    "for filename in os.listdir(\"images_drogasmil\"):\n",
    "    path = os.path.join(\"images_drogasmil\", filename)\n",
    "    print(\n",
    "        compare_images_test(\n",
    "            folder_path=\"images_drogasmil\", image2_path=path, threshold=0.8\n",
    "        )\n",
    "    )"
   ]
  },
  {
   "cell_type": "markdown",
   "metadata": {},
   "source": [
    "## DROGARIA TAMOIO"
   ]
  },
  {
   "cell_type": "code",
   "execution_count": 21,
   "metadata": {},
   "outputs": [],
   "source": [
    "loja = \"DROGARIA TAMOIO\"\n",
    "for key, value in dict_url.items():\n",
    "    if key == loja:\n",
    "        get_images_pages(\n",
    "            url=value[\"url\"],\n",
    "            banner_xpath=value[\"banner_xpath\"],\n",
    "            carousel_button_xpath=value[\"carousel_button_xpath\"],\n",
    "            cookie_button_css=value[\"cookie_button_css\"],\n",
    "        )"
   ]
  },
  {
   "cell_type": "code",
   "execution_count": 22,
   "metadata": {},
   "outputs": [
    {
     "data": {
      "text/plain": [
       "True"
      ]
     },
     "execution_count": 22,
     "metadata": {},
     "output_type": "execute_result"
    }
   ],
   "source": [
    "compare_images_threshold(\n",
    "    folder_path=\"images_tamoio\", image2_path=\"images_tamoio/image_1.jpg\", threshold=0.8\n",
    ")"
   ]
  },
  {
   "cell_type": "code",
   "execution_count": 23,
   "metadata": {},
   "outputs": [
    {
     "name": "stdout",
     "output_type": "stream",
     "text": [
      "As imagens images_tamoio\\image_0.jpg e images_tamoio\\image_0.jpg são iguais\n",
      "As imagens images_tamoio\\image_1.jpg e images_tamoio\\image_1.jpg são iguais\n",
      "As imagens images_tamoio\\image_2.jpg e images_tamoio\\image_2.jpg são iguais\n",
      "As imagens images_tamoio\\image_3.jpg e images_tamoio\\image_3.jpg são iguais\n",
      "As imagens images_tamoio\\image_4.jpg e images_tamoio\\image_4.jpg são iguais\n",
      "As imagens images_tamoio\\image_5.jpg e images_tamoio\\image_5.jpg são iguais\n",
      "As imagens images_tamoio\\image_6.jpg e images_tamoio\\image_6.jpg são iguais\n",
      "As imagens images_tamoio\\image_7.jpg e images_tamoio\\image_7.jpg são iguais\n",
      "As imagens images_tamoio\\image_8.jpg e images_tamoio\\image_8.jpg são iguais\n"
     ]
    }
   ],
   "source": [
    "for filename in os.listdir(\"images_tamoio\"):\n",
    "    path = os.path.join(\"images_tamoio\", filename)\n",
    "    print(\n",
    "        compare_images_test(\n",
    "            folder_path=\"images_tamoio\", image2_path=path, threshold=0.8\n",
    "        )\n",
    "    )"
   ]
  },
  {
   "cell_type": "markdown",
   "metadata": {},
   "source": [
    "## farmalife"
   ]
  },
  {
   "cell_type": "code",
   "execution_count": 20,
   "metadata": {},
   "outputs": [],
   "source": [
    "path_dict = \"dict_url.json\"\n",
    "with open(path_dict, \"r\") as json_file:\n",
    "    dict_url = json.load(json_file)"
   ]
  },
  {
   "cell_type": "code",
   "execution_count": 15,
   "metadata": {},
   "outputs": [],
   "source": [
    "loja = \"farmalife\"\n",
    "for key, value in dict_url.items():\n",
    "    if key == loja:\n",
    "        get_images_pages(\n",
    "            url=value[\"url\"],\n",
    "            banner_xpath=value[\"banner_xpath\"],\n",
    "            carousel_button_xpath=value[\"carousel_button_xpath\"],\n",
    "            cookie_button_css=value[\"cookie_button_css\"],\n",
    "        )"
   ]
  },
  {
   "cell_type": "code",
   "execution_count": 18,
   "metadata": {},
   "outputs": [
    {
     "data": {
      "text/plain": [
       "True"
      ]
     },
     "execution_count": 18,
     "metadata": {},
     "output_type": "execute_result"
    }
   ],
   "source": [
    "compare_images_threshold(\n",
    "    folder_path=\"images_farmalife\",\n",
    "    image2_path=\"images_farmalife/image_1.jpg\",\n",
    "    threshold=0.8,\n",
    ")"
   ]
  },
  {
   "cell_type": "code",
   "execution_count": 19,
   "metadata": {},
   "outputs": [
    {
     "name": "stdout",
     "output_type": "stream",
     "text": [
      "As imagens images_farmalife\\image_0.jpg e images_farmalife\\image_0.jpg são iguais\n",
      "As imagens images_farmalife\\image_1.jpg e images_farmalife\\image_1.jpg são iguais\n",
      "As imagens images_farmalife\\image_2.jpg e images_farmalife\\image_2.jpg são iguais\n",
      "As imagens images_farmalife\\image_3.jpg e images_farmalife\\image_3.jpg são iguais\n",
      "As imagens images_farmalife\\image_4.jpg e images_farmalife\\image_4.jpg são iguais\n",
      "As imagens images_farmalife\\image_5.jpg e images_farmalife\\image_5.jpg são iguais\n",
      "As imagens images_farmalife\\image_6.jpg e images_farmalife\\image_6.jpg são iguais\n",
      "As imagens images_farmalife\\image_7.jpg e images_farmalife\\image_7.jpg são iguais\n",
      "As imagens images_farmalife\\image_8.jpg e images_farmalife\\image_8.jpg são iguais\n"
     ]
    }
   ],
   "source": [
    "for filename in os.listdir(\"images_farmalife\"):\n",
    "    path = os.path.join(\"images_farmalife\", filename)\n",
    "    print(\n",
    "        compare_images_test(\n",
    "            folder_path=\"images_farmalife\", image2_path=path, threshold=0.8\n",
    "        )\n",
    "    )"
   ]
  },
  {
   "cell_type": "markdown",
   "metadata": {},
   "source": [
    "## DROGARIA ROSARIO"
   ]
  },
  {
   "cell_type": "code",
   "execution_count": 21,
   "metadata": {},
   "outputs": [],
   "source": [
    "loja = \"DROGARIA ROSARIO\"\n",
    "for key, value in dict_url.items():\n",
    "    if key == loja:\n",
    "        get_images_pages(\n",
    "            url=value[\"url\"],\n",
    "            banner_xpath=value[\"banner_xpath\"],\n",
    "            carousel_button_xpath=value[\"carousel_button_xpath\"],\n",
    "            cookie_button_css=value[\"cookie_button_css\"],\n",
    "        )"
   ]
  },
  {
   "cell_type": "code",
   "execution_count": 24,
   "metadata": {},
   "outputs": [
    {
     "data": {
      "text/plain": [
       "True"
      ]
     },
     "execution_count": 24,
     "metadata": {},
     "output_type": "execute_result"
    }
   ],
   "source": [
    "compare_images_threshold(\n",
    "    folder_path=\"images_rosario\",\n",
    "    image2_path=\"images_rosario/image_1.jpg\",\n",
    "    threshold=0.8,\n",
    ")"
   ]
  },
  {
   "cell_type": "code",
   "execution_count": 25,
   "metadata": {},
   "outputs": [
    {
     "name": "stdout",
     "output_type": "stream",
     "text": [
      "As imagens images_rosario\\image_0.jpg e images_rosario\\image_0.jpg são iguais\n",
      "As imagens images_rosario\\image_1.jpg e images_rosario\\image_1.jpg são iguais\n",
      "As imagens images_rosario\\image_2.jpg e images_rosario\\image_2.jpg são iguais\n",
      "As imagens images_rosario\\image_3.jpg e images_rosario\\image_3.jpg são iguais\n",
      "As imagens images_rosario\\image_4.jpg e images_rosario\\image_4.jpg são iguais\n",
      "As imagens images_rosario\\image_5.jpg e images_rosario\\image_5.jpg são iguais\n",
      "As imagens images_rosario\\image_6.jpg e images_rosario\\image_6.jpg são iguais\n",
      "As imagens images_rosario\\image_7.jpg e images_rosario\\image_7.jpg são iguais\n",
      "As imagens images_rosario\\image_8.jpg e images_rosario\\image_8.jpg são iguais\n"
     ]
    }
   ],
   "source": [
    "for filename in os.listdir(\"images_rosario\"):\n",
    "    path = os.path.join(\"images_rosario\", filename)\n",
    "    print(\n",
    "        compare_images_test(\n",
    "            folder_path=\"images_rosario\", image2_path=path, threshold=0.8\n",
    "        )\n",
    "    )"
   ]
  },
  {
   "cell_type": "markdown",
   "metadata": {},
   "source": [
    "## PRECO POPULAR"
   ]
  },
  {
   "cell_type": "code",
   "execution_count": null,
   "metadata": {},
   "outputs": [],
   "source": [
    "loja = \"PRECO POPULAR\"\n",
    "for key, value in dict_url.items():\n",
    "    if key == loja:\n",
    "        get_images_pages(\n",
    "            url=value[\"url\"],\n",
    "            banner_xpath=value[\"banner_xpath\"],\n",
    "            carousel_button_xpath=value[\"carousel_button_xpath\"],\n",
    "            cookie_button_css=value[\"cookie_button_css\"],\n",
    "        )"
   ]
  },
  {
   "cell_type": "code",
   "execution_count": 38,
   "metadata": {},
   "outputs": [
    {
     "data": {
      "text/plain": [
       "True"
      ]
     },
     "execution_count": 38,
     "metadata": {},
     "output_type": "execute_result"
    }
   ],
   "source": [
    "compare_images_threshold(\n",
    "    folder_path=\"images_popular\",\n",
    "    image2_path=\"images_popular/image_1.jpg\",\n",
    "    threshold=0.8,\n",
    ")"
   ]
  },
  {
   "cell_type": "code",
   "execution_count": 39,
   "metadata": {},
   "outputs": [
    {
     "name": "stdout",
     "output_type": "stream",
     "text": [
      "As imagens images_popular\\image_0.jpg e images_popular\\image_0.jpg são iguais\n",
      "As imagens images_popular\\image_1.jpg e images_popular\\image_1.jpg são iguais\n",
      "As imagens images_popular\\image_1.jpg e images_popular\\image_10.jpg são iguais\n",
      "As imagens images_popular\\image_11.jpg e images_popular\\image_11.jpg são iguais\n",
      "As imagens images_popular\\image_12.jpg e images_popular\\image_12.jpg são iguais\n",
      "As imagens images_popular\\image_13.jpg e images_popular\\image_13.jpg são iguais\n",
      "As imagens images_popular\\image_14.jpg e images_popular\\image_14.jpg são iguais\n",
      "As imagens images_popular\\image_15.jpg e images_popular\\image_15.jpg são iguais\n",
      "As imagens images_popular\\image_16.jpg e images_popular\\image_16.jpg são iguais\n",
      "As imagens images_popular\\image_17.jpg e images_popular\\image_17.jpg são iguais\n",
      "As imagens images_popular\\image_0.jpg e images_popular\\image_18.jpg são iguais\n",
      "As imagens images_popular\\image_11.jpg e images_popular\\image_2.jpg são iguais\n",
      "As imagens images_popular\\image_12.jpg e images_popular\\image_3.jpg são iguais\n",
      "As imagens images_popular\\image_13.jpg e images_popular\\image_4.jpg são iguais\n",
      "As imagens images_popular\\image_14.jpg e images_popular\\image_5.jpg são iguais\n",
      "As imagens images_popular\\image_15.jpg e images_popular\\image_6.jpg são iguais\n",
      "As imagens images_popular\\image_16.jpg e images_popular\\image_7.jpg são iguais\n",
      "As imagens images_popular\\image_17.jpg e images_popular\\image_8.jpg são iguais\n",
      "As imagens images_popular\\image_0.jpg e images_popular\\image_9.jpg são iguais\n"
     ]
    }
   ],
   "source": [
    "for filename in os.listdir(\"images_popular\"):\n",
    "    path = os.path.join(\"images_popular\", filename)\n",
    "    print(\n",
    "        compare_images_test(\n",
    "            folder_path=\"images_popular\", image2_path=path, threshold=0.8\n",
    "        )\n",
    "    )"
   ]
  },
  {
   "cell_type": "markdown",
   "metadata": {},
   "source": [
    "## DROGARIA CATARINENSE"
   ]
  },
  {
   "cell_type": "code",
   "execution_count": null,
   "metadata": {},
   "outputs": [],
   "source": [
    "loja = \"DROGARIA CATARINENSE\"\n",
    "for key, value in dict_url.items():\n",
    "    if key == loja:\n",
    "        get_images_pages(\n",
    "            url=value[\"url\"],\n",
    "            banner_xpath=value[\"banner_xpath\"],\n",
    "            carousel_button_xpath=value[\"carousel_button_xpath\"],\n",
    "            cookie_button_css=value[\"cookie_button_css\"],\n",
    "        )"
   ]
  },
  {
   "cell_type": "code",
   "execution_count": 40,
   "metadata": {},
   "outputs": [
    {
     "data": {
      "text/plain": [
       "True"
      ]
     },
     "execution_count": 40,
     "metadata": {},
     "output_type": "execute_result"
    }
   ],
   "source": [
    "compare_images_threshold(\n",
    "    folder_path=\"images_catarinense\",\n",
    "    image2_path=\"images_catarinense/image_1.jpg\",\n",
    "    threshold=0.8,\n",
    ")"
   ]
  },
  {
   "cell_type": "code",
   "execution_count": 41,
   "metadata": {},
   "outputs": [
    {
     "name": "stdout",
     "output_type": "stream",
     "text": [
      "As imagens images_catarinense\\image_0.jpg e images_catarinense\\image_0.jpg são iguais\n",
      "As imagens images_catarinense\\image_1.jpg e images_catarinense\\image_1.jpg são iguais\n",
      "As imagens images_catarinense\\image_10.jpg e images_catarinense\\image_10.jpg são iguais\n",
      "As imagens images_catarinense\\image_11.jpg e images_catarinense\\image_11.jpg são iguais\n",
      "As imagens images_catarinense\\image_12.jpg e images_catarinense\\image_12.jpg são iguais\n",
      "As imagens images_catarinense\\image_13.jpg e images_catarinense\\image_13.jpg são iguais\n",
      "As imagens images_catarinense\\image_0.jpg e images_catarinense\\image_14.jpg são iguais\n",
      "As imagens images_catarinense\\image_1.jpg e images_catarinense\\image_15.jpg são iguais\n",
      "As imagens images_catarinense\\image_16.jpg e images_catarinense\\image_16.jpg são iguais\n",
      "As imagens images_catarinense\\image_17.jpg e images_catarinense\\image_17.jpg são iguais\n",
      "As imagens images_catarinense\\image_18.jpg e images_catarinense\\image_18.jpg são iguais\n",
      "As imagens images_catarinense\\image_19.jpg e images_catarinense\\image_19.jpg são iguais\n",
      "As imagens images_catarinense\\image_16.jpg e images_catarinense\\image_2.jpg são iguais\n",
      "As imagens images_catarinense\\image_20.jpg e images_catarinense\\image_20.jpg são iguais\n",
      "As imagens images_catarinense\\image_21.jpg e images_catarinense\\image_21.jpg são iguais\n",
      "As imagens images_catarinense\\image_22.jpg e images_catarinense\\image_22.jpg são iguais\n",
      "As imagens images_catarinense\\image_23.jpg e images_catarinense\\image_23.jpg são iguais\n",
      "As imagens images_catarinense\\image_10.jpg e images_catarinense\\image_24.jpg são iguais\n",
      "As imagens images_catarinense\\image_11.jpg e images_catarinense\\image_25.jpg são iguais\n",
      "As imagens images_catarinense\\image_12.jpg e images_catarinense\\image_26.jpg são iguais\n",
      "As imagens images_catarinense\\image_13.jpg e images_catarinense\\image_27.jpg são iguais\n",
      "As imagens images_catarinense\\image_0.jpg e images_catarinense\\image_28.jpg são iguais\n",
      "As imagens images_catarinense\\image_17.jpg e images_catarinense\\image_3.jpg são iguais\n",
      "As imagens images_catarinense\\image_18.jpg e images_catarinense\\image_4.jpg são iguais\n",
      "As imagens images_catarinense\\image_19.jpg e images_catarinense\\image_5.jpg são iguais\n",
      "As imagens images_catarinense\\image_20.jpg e images_catarinense\\image_6.jpg são iguais\n",
      "As imagens images_catarinense\\image_21.jpg e images_catarinense\\image_7.jpg são iguais\n",
      "As imagens images_catarinense\\image_22.jpg e images_catarinense\\image_8.jpg são iguais\n",
      "As imagens images_catarinense\\image_23.jpg e images_catarinense\\image_9.jpg são iguais\n"
     ]
    }
   ],
   "source": [
    "for filename in os.listdir(\"images_catarinense\"):\n",
    "    path = os.path.join(\"images_catarinense\", filename)\n",
    "    print(\n",
    "        compare_images_test(\n",
    "            folder_path=\"images_catarinense\", image2_path=path, threshold=0.8\n",
    "        )\n",
    "    )"
   ]
  },
  {
   "cell_type": "code",
   "execution_count": null,
   "metadata": {},
   "outputs": [],
   "source": []
  }
 ],
 "metadata": {
  "kernelspec": {
   "display_name": "ache2",
   "language": "python",
   "name": "python3"
  },
  "language_info": {
   "codemirror_mode": {
    "name": "ipython",
    "version": 3
   },
   "file_extension": ".py",
   "mimetype": "text/x-python",
   "name": "python",
   "nbconvert_exporter": "python",
   "pygments_lexer": "ipython3",
   "version": "3.9.18"
  },
  "orig_nbformat": 4
 },
 "nbformat": 4,
 "nbformat_minor": 2
}
