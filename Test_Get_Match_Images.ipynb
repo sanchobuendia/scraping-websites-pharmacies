{
 "cells": [
  {
   "cell_type": "code",
   "execution_count": 1,
   "metadata": {},
   "outputs": [],
   "source": [
    "import pandas as pd\n",
    "import json\n",
    "from results_images import Results"
   ]
  },
  {
   "cell_type": "code",
   "execution_count": 2,
   "metadata": {},
   "outputs": [],
   "source": [
    "df = pd.read_excel(\"planilha_imagens_fake.xlsx\")\n",
    "\n",
    "path_dict = \"dict_url.json\"\n",
    "with open(path_dict, 'r') as json_file:\n",
    "    dict_url = json.load(json_file)"
   ]
  },
  {
   "cell_type": "code",
   "execution_count": 3,
   "metadata": {},
   "outputs": [
    {
     "data": {
      "text/html": [
       "<div>\n",
       "<style scoped>\n",
       "    .dataframe tbody tr th:only-of-type {\n",
       "        vertical-align: middle;\n",
       "    }\n",
       "\n",
       "    .dataframe tbody tr th {\n",
       "        vertical-align: top;\n",
       "    }\n",
       "\n",
       "    .dataframe thead th {\n",
       "        text-align: right;\n",
       "    }\n",
       "</style>\n",
       "<table border=\"1\" class=\"dataframe\">\n",
       "  <thead>\n",
       "    <tr style=\"text-align: right;\">\n",
       "      <th></th>\n",
       "      <th>rede</th>\n",
       "      <th>site</th>\n",
       "      <th>local_site</th>\n",
       "      <th>target</th>\n",
       "      <th>match</th>\n",
       "    </tr>\n",
       "  </thead>\n",
       "  <tbody>\n",
       "    <tr>\n",
       "      <th>0</th>\n",
       "      <td>PACHECO</td>\n",
       "      <td>https://www.drogariaspacheco.com.br/</td>\n",
       "      <td>pagina principal</td>\n",
       "      <td>target_pacheco_True.jpg</td>\n",
       "      <td>True</td>\n",
       "    </tr>\n",
       "    <tr>\n",
       "      <th>1</th>\n",
       "      <td>ARAÚJO</td>\n",
       "      <td>https://www.araujo.com.br/</td>\n",
       "      <td>medicamentos</td>\n",
       "      <td>target_araujo_False.jpg</td>\n",
       "      <td>False</td>\n",
       "    </tr>\n",
       "    <tr>\n",
       "      <th>2</th>\n",
       "      <td>INDIANA</td>\n",
       "      <td>https://www.farmaciaindiana.com.br/</td>\n",
       "      <td>pagina principal</td>\n",
       "      <td>target_indiana_False.jpg</td>\n",
       "      <td>False</td>\n",
       "    </tr>\n",
       "  </tbody>\n",
       "</table>\n",
       "</div>"
      ],
      "text/plain": [
       "      rede                                  site        local_site  \\\n",
       "0  PACHECO  https://www.drogariaspacheco.com.br/  pagina principal   \n",
       "1   ARAÚJO            https://www.araujo.com.br/      medicamentos   \n",
       "2  INDIANA   https://www.farmaciaindiana.com.br/  pagina principal   \n",
       "\n",
       "                     target  match  \n",
       "0   target_pacheco_True.jpg   True  \n",
       "1   target_araujo_False.jpg  False  \n",
       "2  target_indiana_False.jpg  False  "
      ]
     },
     "execution_count": 3,
     "metadata": {},
     "output_type": "execute_result"
    }
   ],
   "source": [
    "out = Results(df = df, folder_path = 'target_images', threshold = 0.8, dict_url = dict_url)\n",
    "df_out = out.create_output()\n",
    "df_out.head()"
   ]
  }
 ],
 "metadata": {
  "kernelspec": {
   "display_name": "ache2",
   "language": "python",
   "name": "python3"
  },
  "language_info": {
   "codemirror_mode": {
    "name": "ipython",
    "version": 3
   },
   "file_extension": ".py",
   "mimetype": "text/x-python",
   "name": "python",
   "nbconvert_exporter": "python",
   "pygments_lexer": "ipython3",
   "version": "3.9.18"
  },
  "orig_nbformat": 4
 },
 "nbformat": 4,
 "nbformat_minor": 2
}
