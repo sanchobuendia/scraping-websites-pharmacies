{
 "cells": [
  {
   "cell_type": "code",
   "execution_count": 1,
   "metadata": {},
   "outputs": [],
   "source": [
    "import tiktoken"
   ]
  },
  {
   "cell_type": "code",
   "execution_count": 3,
   "metadata": {},
   "outputs": [
    {
     "name": "stdout",
     "output_type": "stream",
     "text": [
      "O prompt vai gerar 412 tokens\n"
     ]
    }
   ],
   "source": [
    "encoding = tiktoken.get_encoding(\"cl100k_base\")\n",
    "encoding = tiktoken.encoding_for_model(\"gpt-3.5-turbo\")\n",
    "\n",
    "description = \"Rosuvastatina Cálcica 20mg Genérico Medley 30 Comprimidos Revestidos\\n46% OFF\\nR$ 88,16\\nR$ 48,09\\nVER DESCONTOS CONVÊNIO\"\n",
    "prompt = f\"\"\"Rosuvastatina Cálcica 20mg Genérico Medley 30 Comprimidos Revestidos\\n46% OFF\\nR$ 88,16\\nR$ 48,09\\nVER DESCONTOS CONVÊNIO\n",
    "                            nome: Rosuvastatina Cálcica 20mg Genérico Medley 30 Comprimidos\n",
    "                            preço: R$ 48,09\n",
    "                            Rosuvastatina Calcica 20mg 30 Comprimidos Revestidos Althaia Generico\\nALTHAIA\\nR$ 79,16\\nR$ 42,19\n",
    "                            nome: Rosuvastatina Calcica 20mg 30 Comprimidos\n",
    "                            preço: R$ 42,19\n",
    "                            68%\\nLeve 3 Pague 2\\nLeve 3 Pague 2\\nCampeão de vendas\\nDesconto de laboratório\\nRosuvastatina Cálcica 10mg Ranbaxy Génerico 30 Comprimidos\\nR$ 21,89\\nou 10x de R$ 2,18\\nADICIONAR AO CARRINHO\n",
    "                            nome: Rosuvastatina Cálcica 10mg Ranbaxy Génerico 30 Comprimidos\n",
    "                            preço: R$ 21,89\n",
    "                            R$105,36\\nR$84,99\\nRubia 75mcg com 84 Comprimidos\n",
    "                            nome: Rubia 75mcg com 84 Comprimidos\n",
    "                            preço: R$ 84,99\n",
    "                            Extraia o nome e o preço do medicamento no seguinte texto: {description}\"\"\".strip()\n",
    "\n",
    "print(f\"O prompt vai gerar {len(encoding.encode(prompt))} tokens\")"
   ]
  },
  {
   "cell_type": "markdown",
   "metadata": {},
   "source": [
    "Cada request vai gerar aproximadamente 420 token, prompt e saída. Se tivermos 150 buscas em cada report, teremos 63000 tokens.\n",
    "\n",
    "O GPT-3.5/16k context custa 0.003 / 1k tokens\n",
    "\n",
    "Sendo assim, cada report custará 0.189 US dólares. Assumindo a cotação atual de 5,14, custará R$ 0.97 Reais."
   ]
  },
  {
   "cell_type": "markdown",
   "metadata": {},
   "source": []
  }
 ],
 "metadata": {
  "kernelspec": {
   "display_name": "ache2",
   "language": "python",
   "name": "python3"
  },
  "language_info": {
   "codemirror_mode": {
    "name": "ipython",
    "version": 3
   },
   "file_extension": ".py",
   "mimetype": "text/x-python",
   "name": "python",
   "nbconvert_exporter": "python",
   "pygments_lexer": "ipython3",
   "version": "3.9.18"
  }
 },
 "nbformat": 4,
 "nbformat_minor": 2
}
